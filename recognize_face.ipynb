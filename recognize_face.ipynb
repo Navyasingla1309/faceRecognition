{
 "cells": [
  {
   "cell_type": "code",
   "execution_count": 65,
   "metadata": {},
   "outputs": [],
   "source": [
    "import cv2\n",
    "import numpy as np\n",
    "import os\n",
    "import matplotlib.pyplot as plt"
   ]
  },
  {
   "cell_type": "code",
   "execution_count": 66,
   "metadata": {},
   "outputs": [],
   "source": [
    "def dist(x1, x2):\n",
    "    # x1 and x2 are vectors of coordinates\n",
    "    return np.sqrt(((x1-x2)**2).sum())\n",
    "\n",
    "def knn(train,query, k= 5):\n",
    "    m = train.shape[0]\n",
    "  \n",
    "    vals = []\n",
    "    for i in range(m):\n",
    "        ix = train[i,:-1]\n",
    "        iy = train[i,-1]\n",
    "        d = dist(query,ix)\n",
    "        vals.append((d,iy)) ## tuple\n",
    "    ## sorting list vals by d\n",
    "    dk = sorted(vals,key = lambda x: x[0])[:k]\n",
    "    labels = np.array(dk)[:,-1]\n",
    "    output = np.unique(labels,return_counts = True)\n",
    "    index = np.argmax(output[1])\n",
    "    return output[0][index]"
   ]
  },
  {
   "cell_type": "code",
   "execution_count": 67,
   "metadata": {},
   "outputs": [],
   "source": [
    "cap = cv2.VideoCapture(0)\n",
    "face = cv2.CascadeClassifier(\"haarcascade_frontalface_alt.xml\")\n",
    "face_data = []\n",
    "path = \"face/\"\n",
    "label = []\n",
    "class_id = 0\n",
    "names = {}\n",
    "files = [f for f in os.listdir(path) if f.endswith('.npy')]"
   ]
  },
  {
   "cell_type": "code",
   "execution_count": 68,
   "metadata": {},
   "outputs": [
    {
     "name": "stdout",
     "output_type": "stream",
     "text": [
      "0 kmon\n",
      "1 Mmon\n",
      "2 navya\n",
      "3 pmon\n",
      "(535, 30000)\n",
      "(535, 1)\n"
     ]
    },
    {
     "data": {
      "image/png": "[encoded data removed]",
      "text/plain": [
       "<Figure size 432x288 with 1 Axes>"
      ]
     },
     "metadata": {
      "needs_background": "light"
     },
     "output_type": "display_data"
    }
   ],
   "source": [
    "for fx in files:\n",
    "    \n",
    "   \n",
    "    names[class_id] = fx[:-4]\n",
    "    data_item = np.load('face/'+fx)\n",
    "    face_data.append(data_item)\n",
    "    print(class_id, names[class_id])\n",
    "    target = class_id*np.ones((data_item.shape[0]))\n",
    "    class_id +=1\n",
    "    label.append(target)\n",
    "\n",
    "face_dataset= np.concatenate(face_data,axis = 0)\n",
    "face_dataset = face_dataset.reshape((face_dataset.shape[0], -1))\n",
    "face_labels = np.concatenate(label,axis = 0).reshape((-1,1));\n",
    "print(face_dataset.shape)\n",
    "print(face_labels.shape)\n",
    "plt.scatter(face_dataset[:,2],face_dataset[:,1],c=face_labels)\n",
    "plt.show()"
   ]
  },
  {
   "cell_type": "code",
   "execution_count": null,
   "metadata": {},
   "outputs": [],
   "source": []
  },
  {
   "cell_type": "code",
   "execution_count": 5,
   "metadata": {},
   "outputs": [
    {
     "name": "stdout",
     "output_type": "stream",
     "text": [
      "(535, 30001)\n"
     ]
    }
   ],
   "source": [
    "train = np.concatenate((face_dataset, face_labels), axis = 1)\n",
    "print(train.shape)"
   ]
  },
  {
   "cell_type": "code",
   "execution_count": 6,
   "metadata": {},
   "outputs": [],
   "source": [
    "while True:\n",
    "    ret, frame = cap.read()\n",
    "    gray = cv2.cvtColor(frame,cv2.COLOR_BGR2GRAY)\n",
    "    if ret== False:\n",
    "        continue\n",
    "    faces = face.detectMultiScale(frame,1.3,5)\n",
    "    for (x,y,w,h) in faces:\n",
    "        cv2.rectangle(frame, (x,y), (x+w,y+h),(255,255,0),2)\n",
    "        ## cropping region of interest\n",
    "        offset = 10\n",
    "        face_sect = frame[y- offset: y +h+offset, x-offset: x+w+offset]\n",
    "        face_sect = cv2.resize(face_sect,(100,100))\n",
    "        out = knn(train, face_sect.flatten())\n",
    "        pred_name =  names[int(out)]\n",
    "        cv2.putText(frame,pred_name,(x,y-10),cv2.FONT_HERSHEY_SIMPLEX,1,(255,0,0),2,cv2.LINE_AA)\n",
    "        cv2.rectangle(frame,(x,y),(x+w,y+h),(0,255,255),2)\n",
    "    cv2.imshow(\"faces\",frame)\n",
    "    key_pressed = cv2.waitKey(1) & 0XFF\n",
    "    if key_pressed == ord('q'):\n",
    "        break;\n",
    "cap.release()\n",
    "cv2.destroyAllWindows()"
   ]
  },
  {
   "cell_type": "code",
   "execution_count": null,
   "metadata": {},
   "outputs": [],
   "source": []
  },
  {
   "cell_type": "code",
   "execution_count": null,
   "metadata": {},
   "outputs": [],
   "source": []
  }
 ],
 "metadata": {
  "kernelspec": {
   "display_name": "Python 3",
   "language": "python",
   "name": "python3"
  },
  "language_info": {
   "codemirror_mode": {
    "name": "ipython",
    "version": 3
   },
   "file_extension": ".py",
   "mimetype": "text/x-python",
   "name": "python",
   "nbconvert_exporter": "python",
   "pygments_lexer": "ipython3",
   "version": "3.8.3"
  }
 },
 "nbformat": 4,
 "nbformat_minor": 4
}
